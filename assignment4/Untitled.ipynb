{
 "cells": [
  {
   "cell_type": "code",
   "execution_count": 13,
   "metadata": {
    "collapsed": true
   },
   "outputs": [],
   "source": [
    "#plot\n",
    "import matplotlib as mpl\n",
    "mpl.use('agg')\n",
    "import matplotlib.pyplot as plt\n",
    "import matplotlib.patches as mpatches\n",
    "\n",
    "arraysize_x = [1]\n",
    "seqTimes = [1]\n",
    "naiveTimes = [1000]\n",
    "optiTimes = [1000000000]\n",
    "# red dashes, blue squares and green triangles\n",
    "plt.plot(arraysize_x, seqTimes, 'r', arraysize_x, naiveTimes, 'b', arraysize_x, optiTimes, 'g')\n",
    "plt.xlabel('Array Size')\n",
    "plt.ylabel('Time')\n",
    "\n",
    "red_patch = mpatches.Patch(color='red', label='Sequential')\n",
    "blue_patch = mpatches.Patch(color='blue', label='Naive')\n",
    "green_patch = mpatches.Patch(color='green', label='Optimized')\n",
    "\n",
    "handles = []\n",
    "handles.append(red_patch)\n",
    "handles.append(blue_patch)\n",
    "handles.append(green_patch)\n",
    "plt.legend(handles=handles)\n",
    "plt.savefig('temp.png')\n",
    "#####################   \n",
    "plt.plot(arraysize_x, seqTimes, 'r')\n",
    "plt.xlabel('Array Size')\n",
    "plt.ylabel('SeqTime')\n",
    "plt.legend(handles=[])\n",
    "plt.savefig('temp2.png')\n"
   ]
  },
  {
   "cell_type": "code",
   "execution_count": 8,
   "metadata": {
    "collapsed": true
   },
   "outputs": [],
   "source": []
  },
  {
   "cell_type": "code",
   "execution_count": null,
   "metadata": {
    "collapsed": true
   },
   "outputs": [],
   "source": []
  }
 ],
 "metadata": {
  "kernelspec": {
   "display_name": "Python 3",
   "language": "python",
   "name": "python3"
  },
  "language_info": {
   "codemirror_mode": {
    "name": "ipython",
    "version": 3
   },
   "file_extension": ".py",
   "mimetype": "text/x-python",
   "name": "python",
   "nbconvert_exporter": "python",
   "pygments_lexer": "ipython3",
   "version": "3.6.3"
  }
 },
 "nbformat": 4,
 "nbformat_minor": 2
}
